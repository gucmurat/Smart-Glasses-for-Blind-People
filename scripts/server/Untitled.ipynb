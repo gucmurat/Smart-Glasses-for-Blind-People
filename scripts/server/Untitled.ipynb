{
 "cells": [
  {
   "cell_type": "code",
   "execution_count": 4,
   "id": "0705e903",
   "metadata": {},
   "outputs": [
    {
     "data": {
      "application/vnd.jupyter.widget-view+json": {
       "model_id": "8849f92a3e7442ecaac09dcc1d7e28fb",
       "version_major": 2,
       "version_minor": 0
      },
      "text/plain": [
       "Downloading (…)lve/main/config.json:   0%|          | 0.00/4.61k [00:00<?, ?B/s]"
      ]
     },
     "metadata": {},
     "output_type": "display_data"
    },
    {
     "name": "stderr",
     "output_type": "stream",
     "text": [
      "D:\\anaconda3\\Lib\\site-packages\\huggingface_hub\\file_download.py:133: UserWarning: `huggingface_hub` cache-system uses symlinks by default to efficiently store duplicated files but your machine does not support them in C:\\Users\\ege\\.cache\\huggingface\\hub. Caching files will still work but in a degraded version that might require more space on your disk. This warning can be disabled by setting the `HF_HUB_DISABLE_SYMLINKS_WARNING` environment variable. For more details, see https://huggingface.co/docs/huggingface_hub/how-to-cache#limitations.\n",
      "To support symlinks on Windows, you either need to activate Developer Mode or to run Python as an administrator. In order to see activate developer mode, see this article: https://docs.microsoft.com/en-us/windows/apps/get-started/enable-your-device-for-development\n",
      "  warnings.warn(message)\n"
     ]
    },
    {
     "data": {
      "application/vnd.jupyter.widget-view+json": {
       "model_id": "ffd5603467fa404cb30bf13173bd0f8e",
       "version_major": 2,
       "version_minor": 0
      },
      "text/plain": [
       "Downloading pytorch_model.bin:   0%|          | 0.00/982M [00:00<?, ?B/s]"
      ]
     },
     "metadata": {},
     "output_type": "display_data"
    },
    {
     "data": {
      "application/vnd.jupyter.widget-view+json": {
       "model_id": "dc760a427ce84c2e88056b8a9b934b33",
       "version_major": 2,
       "version_minor": 0
      },
      "text/plain": [
       "Downloading (…)okenizer_config.json:   0%|          | 0.00/241 [00:00<?, ?B/s]"
      ]
     },
     "metadata": {},
     "output_type": "display_data"
    },
    {
     "data": {
      "application/vnd.jupyter.widget-view+json": {
       "model_id": "0b7215bb485746a2b152ccd12b6223ec",
       "version_major": 2,
       "version_minor": 0
      },
      "text/plain": [
       "Downloading (…)olve/main/vocab.json:   0%|          | 0.00/798k [00:00<?, ?B/s]"
      ]
     },
     "metadata": {},
     "output_type": "display_data"
    },
    {
     "data": {
      "application/vnd.jupyter.widget-view+json": {
       "model_id": "2f9460831a404008b7098d00197e4014",
       "version_major": 2,
       "version_minor": 0
      },
      "text/plain": [
       "Downloading (…)olve/main/merges.txt:   0%|          | 0.00/456k [00:00<?, ?B/s]"
      ]
     },
     "metadata": {},
     "output_type": "display_data"
    },
    {
     "data": {
      "application/vnd.jupyter.widget-view+json": {
       "model_id": "a75adf3810294dc4a4b1974539697882",
       "version_major": 2,
       "version_minor": 0
      },
      "text/plain": [
       "Downloading (…)/main/tokenizer.json:   0%|          | 0.00/1.36M [00:00<?, ?B/s]"
      ]
     },
     "metadata": {},
     "output_type": "display_data"
    },
    {
     "data": {
      "application/vnd.jupyter.widget-view+json": {
       "model_id": "67f4281da9874b26870caf0d334bfe5b",
       "version_major": 2,
       "version_minor": 0
      },
      "text/plain": [
       "Downloading (…)cial_tokens_map.json:   0%|          | 0.00/120 [00:00<?, ?B/s]"
      ]
     },
     "metadata": {},
     "output_type": "display_data"
    },
    {
     "data": {
      "application/vnd.jupyter.widget-view+json": {
       "model_id": "cfbac85e42ef431e901e74dab065b272",
       "version_major": 2,
       "version_minor": 0
      },
      "text/plain": [
       "Downloading (…)rocessor_config.json:   0%|          | 0.00/228 [00:00<?, ?B/s]"
      ]
     },
     "metadata": {},
     "output_type": "display_data"
    },
    {
     "name": "stderr",
     "output_type": "stream",
     "text": [
      "Could not find image processor class in the image processor config or the model config. Loading based on pattern matching with the model's feature extractor configuration.\n",
      "D:\\anaconda3\\Lib\\site-packages\\transformers\\models\\vit\\feature_extraction_vit.py:28: FutureWarning: The class ViTFeatureExtractor is deprecated and will be removed in version 5 of Transformers. Please use ViTImageProcessor instead.\n",
      "  warnings.warn(\n",
      "\n",
      "image 1/1 C:\\Users\\ege\\Desktop\\test_images\\3\\right.jpg: 640x480 1 chair, 1 refrigerator, 2185.1ms\n",
      "Speed: 125.6ms preprocess, 2185.1ms inference, 232.4ms postprocess per image at shape (1, 3, 640, 480)\n"
     ]
    },
    {
     "name": "stdout",
     "output_type": "stream",
     "text": [
      "{'names': {0: 'person', 1: 'bicycle', 2: 'car', 3: 'motorcycle', 4: 'airplane', 5: 'bus', 6: 'train', 7: 'truck', 8: 'boat', 9: 'traffic light', 10: 'fire hydrant', 11: 'stop sign', 12: 'parking meter', 13: 'bench', 14: 'bird', 15: 'cat', 16: 'dog', 17: 'horse', 18: 'sheep', 19: 'cow', 20: 'elephant', 21: 'bear', 22: 'zebra', 23: 'giraffe', 24: 'backpack', 25: 'umbrella', 26: 'handbag', 27: 'tie', 28: 'suitcase', 29: 'frisbee', 30: 'skis', 31: 'snowboard', 32: 'sports ball', 33: 'kite', 34: 'baseball bat', 35: 'baseball glove', 36: 'skateboard', 37: 'surfboard', 38: 'tennis racket', 39: 'bottle', 40: 'wine glass', 41: 'cup', 42: 'fork', 43: 'knife', 44: 'spoon', 45: 'bowl', 46: 'banana', 47: 'apple', 48: 'sandwich', 49: 'orange', 50: 'broccoli', 51: 'carrot', 52: 'hot dog', 53: 'pizza', 54: 'donut', 55: 'cake', 56: 'chair', 57: 'couch', 58: 'potted plant', 59: 'bed', 60: 'dining table', 61: 'toilet', 62: 'tv', 63: 'laptop', 64: 'mouse', 65: 'remote', 66: 'keyboard', 67: 'cell phone', 68: 'microwave', 69: 'oven', 70: 'toaster', 71: 'sink', 72: 'refrigerator', 73: 'book', 74: 'clock', 75: 'vase', 76: 'scissors', 77: 'teddy bear', 78: 'hair drier', 79: 'toothbrush'}, 'classes': tensor([56., 72.]), 'boxes': tensor([[164.7885, 557.2238, 329.3760, 832.6332],\n",
      "        [400.0219, 410.5116, 446.4613, 585.9171]]), 'confs': tensor([0.9253, 0.7108])}\n"
     ]
    }
   ],
   "source": [
    "from ultralytics import YOLO\n",
    "import cv2\n",
    "import torch\n",
    "import time\n",
    "import numpy as np\n",
    "from transformers import pipeline\n",
    "from PIL import Image\n",
    "import dist_measurement\n",
    "\n",
    "yolov8_path = '../../models/object-detection/v1/yolov8m.pt'\n",
    "wotr_path = '../../models/object-detection/v3/best_v3.pt'\n",
    "\n",
    "# model should pay attention to these class indexes\n",
    "wotr_class_pruned_indexes = [0, 1, 2, 3, 4, 12, 13, 14, 15, 16, 20, 21]\n",
    "\n",
    "# for these indexes, we may not measure distance\n",
    "wotr_class_important_indexes = [3, 4, 20, 21]\n",
    "\n",
    "model_yolov8 = None\n",
    "model_wotr = None\n",
    "model_midas = None\n",
    "model_captioning = None\n",
    "transform_midas = None\n",
    "device_midas = None\n",
    "\n",
    "def initialize_models():\n",
    "    global model_yolov8\n",
    "    global model_wotr\n",
    "    global model_midas\n",
    "    global model_captioning\n",
    "    global transform_midas\n",
    "    global device_midas\n",
    "\n",
    "    model_yolov8 = YOLO(yolov8_path)\n",
    "    \n",
    "    model_wotr = YOLO(wotr_path)\n",
    "    \"\"\"\n",
    "    model_type = \"MiDaS_small\" \n",
    "    model_midas = torch.hub.load(\"intel-isl/MiDaS\", model_type)\n",
    "    device_midas = torch.device(\"mps\") if torch.cuda.is_available() else torch.device(\"cpu\")\n",
    "    model_midas.to(device_midas)\n",
    "    model_midas.eval()\n",
    "    \n",
    "    midas_transforms = torch.hub.load(\"intel-isl/MiDaS\", \"transforms\")\n",
    "    if model_type == \"DPT_Large\" or model_type == \"DPT_Hybrid\":\n",
    "        transform_midas = midas_transforms.dpt_transform\n",
    "    else:\n",
    "        transform_midas = midas_transforms.small_transform\n",
    "    \"\"\"\n",
    "    model_captioning = pipeline(\"image-to-text\", model=\"nlpconnect/vit-gpt2-image-captioning\")\n",
    "\n",
    "def detected_labels_and_boxes_result(model, image):\n",
    "    results = model.predict(image)\n",
    "    result = results[0]\n",
    "    return {'names': result.names, \"classes\": result.boxes.cls, \"boxes\": result.boxes.xyxy, \"confs\": result.boxes.conf}\n",
    "\n",
    "def depth_map_result(image):\n",
    "    if isinstance(image, str):\n",
    "        input_image = cv2.imread(image)\n",
    "    else:\n",
    "        input_image = image\n",
    "    input_image = cv2.cvtColor(input_image, cv2.COLOR_BGR2RGB)\n",
    "    input_image = transform_midas(input_image).to(device_midas)\n",
    "\n",
    "    with torch.no_grad():\n",
    "        depth_prediction = model_midas(input_image)\n",
    "\n",
    "    depth_map = depth_prediction.squeeze().cpu().numpy()\n",
    "\n",
    "    depth_map = (depth_map - depth_map.min()) / (depth_map.max() - depth_map.min()) * 255\n",
    "    depth_map = depth_map.astype(np.uint8)\n",
    "    return depth_map\n",
    "\n",
    "def image_captioning_result(image):\n",
    "    if not isinstance(image, str):\n",
    "        image = Image.fromarray(np.uint8(image)).convert('RGB')\n",
    "    return model_captioning(image)\n",
    "\n",
    "def stereo_vision_distance_result(image_left, image_right, labels_boxes_json):\n",
    "    classes = labels_boxes_json[\"classes\"]\n",
    "    boxes = labels_boxes_json[\"boxes\"]\n",
    "    # TODO \n",
    "    # returns distances dict for each boxes\n",
    "    # example output \n",
    "    # {'names': result.names, \"classes\": result.boxes.cls, \"boxes\": result.boxes.xyxy, \"confs\": result.boxes.conf, \"distances\": distances}\n",
    "    fl = 75-246.3441162109375*155/490.97529220581055\n",
    "    image_left = cv2.cvtColor(image_left, cv2.COLOR_BGR2RGB)\n",
    "    image_right = cv2.cvtColor(image_right, cv2.COLOR_BGR2RGB)\n",
    "    sz1 = image_right.shape[1]\n",
    "    sz2 = image_right.shape[0]\n",
    "    det = labels_boxes_json.boxes\n",
    "    lbls = labels_boxes_json.classes\n",
    "    centre = sz1/2\n",
    "    def get_dist_to_centre_tl(box, cntr = centre):\n",
    "        pnts = np.array(dist_measurement.tlbr_to_corner(box))[:,0]\n",
    "        return abs(pnts - centre)\n",
    "    \n",
    "    def get_dist_to_centre_br(box, cntr = centre):\n",
    "        pnts = np.array(dist_measurement.tlbr_to_corner_br(box))[:,0]\n",
    "        return abs(pnts - centre)\n",
    "    \n",
    "    dists_tl =  dist_measurement.get_horiz_dist_corner_tl(det)\n",
    "    dists_br =  dist_measurement.get_horiz_dist_corner_br(det)\n",
    "    final_dists = []\n",
    "    dctl = dist_measurement.get_dist_to_centre_tl(det[0])\n",
    "    dcbr = dist_measurement.get_dist_to_centre_br(det[0])\n",
    "    for i, j in zip(*tracks):\n",
    "        if dctl[i] < dcbr[i]:\n",
    "            final_dists.append((dists_tl[i][j],lbls[i]))\n",
    "        else:\n",
    "            final_dists.append((dists_br[i][j],lbls[i]))\n",
    "        \n",
    "        \n",
    "    tantheta = (1/(155-fl))*(59.0/2)*sz1/246.3441162109375\n",
    "    fd = [i for (i,j) in final_dists]\n",
    "    dists_away = (59.0/2)*sz1*(1/tantheta)/np.array(fd)+fl\n",
    "    cat_dist = []\n",
    "    for i in range(len(dists_away)):\n",
    "        cat_dist.append(f'{lbls[i]} {dists_away[i]:.1f}cm')\n",
    "        print(\"Estimation:\")\n",
    "        print(f'{lbls[i]} is {dists_away[i]:.1f}cm away')\n",
    "          \n",
    "\n",
    "# example usage: get_model_output_from_camera(image_captioning_result, printable=True)\n",
    "def get_model_output_from_camera(model_method, show=False, printable=False):\n",
    "    cap = cv2.VideoCapture(0) \n",
    "    while True:\n",
    "        ret, frame = cap.read()  \n",
    "        if not ret:\n",
    "            break\n",
    "\n",
    "        result = model_method(frame)\n",
    "        if printable:\n",
    "            print(result)\n",
    "        if show:\n",
    "            cv2.imshow(\"output\", result)\n",
    "        if cv2.waitKey(1) & 0xFF == ord('q'):\n",
    "            break\n",
    "        time.sleep(1)\n",
    "\n",
    "    cap.release()\n",
    "    cv2.destroyAllWindows()\n",
    "\n",
    "def get_model_output_from_frame(model_method, frame ,show=False, printable=False):\n",
    "    result = model_method(frame)\n",
    "    if printable:\n",
    "        print(result)\n",
    "    if show:\n",
    "        cv2.imshow(\"output\", result)\n",
    "    cv2.destroyAllWindows()\n",
    "\n",
    "def main():\n",
    "    #image_captioning_result(cv2.imread(\"C:/Users/ege/Desktop/test_images/3/right.jpg\"))\n",
    "    initialize_models()\n",
    "    print(detected_labels_and_boxes_result(model_yolov8,\"C:/Users/ege/Desktop/test_images/3/right.jpg\"))\n",
    "    \n",
    "if __name__ == \"__main__\":\n",
    "    main()\n",
    "\n",
    "\n"
   ]
  },
  {
   "cell_type": "code",
   "execution_count": null,
   "id": "7df6579d",
   "metadata": {},
   "outputs": [],
   "source": []
  }
 ],
 "metadata": {
  "kernelspec": {
   "display_name": "Python 3 (ipykernel)",
   "language": "python",
   "name": "python3"
  },
  "language_info": {
   "codemirror_mode": {
    "name": "ipython",
    "version": 3
   },
   "file_extension": ".py",
   "mimetype": "text/x-python",
   "name": "python",
   "nbconvert_exporter": "python",
   "pygments_lexer": "ipython3",
   "version": "3.11.5"
  }
 },
 "nbformat": 4,
 "nbformat_minor": 5
}
