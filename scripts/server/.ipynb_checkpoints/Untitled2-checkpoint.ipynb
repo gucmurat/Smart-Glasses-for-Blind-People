{
 "cells": [
  {
   "cell_type": "code",
   "execution_count": 6,
   "id": "7b9444ba",
   "metadata": {},
   "outputs": [
    {
     "name": "stderr",
     "output_type": "stream",
     "text": [
      "Using cache found in C:\\Users\\ege/.cache\\torch\\hub\\intel-isl_MiDaS_master\n"
     ]
    },
    {
     "name": "stdout",
     "output_type": "stream",
     "text": [
      "Loading weights:  None\n"
     ]
    },
    {
     "name": "stderr",
     "output_type": "stream",
     "text": [
      "D:\\anaconda3\\Lib\\site-packages\\torch\\hub.py:294: UserWarning: You are about to download and run code from an untrusted repository. In a future release, this won't be allowed. To add the repository to your trusted list, change the command to {calling_fn}(..., trust_repo=False) and a command prompt will appear asking for an explicit confirmation of trust, or load(..., trust_repo=True), which will assume that the prompt is to be answered with 'yes'. You can also use load(..., trust_repo='check') which will only prompt for confirmation if the repo is not already trusted. This will eventually be the default behaviour\n",
      "  warnings.warn(\n",
      "Downloading: \"https://github.com/rwightman/gen-efficientnet-pytorch/zipball/master\" to C:\\Users\\ege/.cache\\torch\\hub\\master.zip\n",
      "Downloading: \"https://github.com/rwightman/pytorch-image-models/releases/download/v0.1-weights/tf_efficientnet_lite3-b733e338.pth\" to C:\\Users\\ege/.cache\\torch\\hub\\checkpoints\\tf_efficientnet_lite3-b733e338.pth\n",
      "Downloading: \"https://github.com/isl-org/MiDaS/releases/download/v2_1/midas_v21_small_256.pt\" to C:\\Users\\ege/.cache\\torch\\hub\\checkpoints\\midas_v21_small_256.pt\n",
      "100%|█████████████████████████████████████████████████████████████████████████████| 81.8M/81.8M [00:16<00:00, 5.15MB/s]\n",
      "Using cache found in C:\\Users\\ege/.cache\\torch\\hub\\intel-isl_MiDaS_master\n",
      "Could not find image processor class in the image processor config or the model config. Loading based on pattern matching with the model's feature extractor configuration.\n",
      "D:\\anaconda3\\Lib\\site-packages\\transformers\\models\\vit\\feature_extraction_vit.py:28: FutureWarning: The class ViTFeatureExtractor is deprecated and will be removed in version 5 of Transformers. Please use ViTImageProcessor instead.\n",
      "  warnings.warn(\n"
     ]
    },
    {
     "ename": "NameError",
     "evalue": "name 'model_yolov8' is not defined",
     "output_type": "error",
     "traceback": [
      "\u001b[1;31m---------------------------------------------------------------------------\u001b[0m",
      "\u001b[1;31mNameError\u001b[0m                                 Traceback (most recent call last)",
      "Cell \u001b[1;32mIn[6], line 41\u001b[0m\n\u001b[0;32m     12\u001b[0m logger\u001b[38;5;241m.\u001b[39msetLevel(logging\u001b[38;5;241m.\u001b[39mINFO)\n\u001b[0;32m     13\u001b[0m \u001b[38;5;124;03m\"\"\"\u001b[39;00m\n\u001b[0;32m     14\u001b[0m \u001b[38;5;124;03mwith NumpySocket() as s:\u001b[39;00m\n\u001b[0;32m     15\u001b[0m \u001b[38;5;124;03m    s.bind((HOST, PORT))\u001b[39;00m\n\u001b[1;32m   (...)\u001b[0m\n\u001b[0;32m     37\u001b[0m \u001b[38;5;124;03m            pass\u001b[39;00m\n\u001b[0;32m     38\u001b[0m \u001b[38;5;124;03m\"\"\"\u001b[39;00m\n\u001b[0;32m     39\u001b[0m evaluation\u001b[38;5;241m.\u001b[39mstereo_vision_distance_result(cv2\u001b[38;5;241m.\u001b[39mimread(\u001b[38;5;124m\"\u001b[39m\u001b[38;5;124mC:/Users/ege/Desktop/test_images/5/left.jpg\u001b[39m\u001b[38;5;124m\"\u001b[39m), \n\u001b[0;32m     40\u001b[0m                               cv2\u001b[38;5;241m.\u001b[39mimread(\u001b[38;5;124m\"\u001b[39m\u001b[38;5;124mC:/Users/ege/Desktop/test_images/5/right.jpg\u001b[39m\u001b[38;5;124m\"\u001b[39m), \n\u001b[1;32m---> 41\u001b[0m                               evaluation\u001b[38;5;241m.\u001b[39mdetected_labels_and_boxes_result(model_yolov8,\u001b[38;5;124m\"\u001b[39m\u001b[38;5;124mC:/Users/ege/Desktop/test_images/5/left.jpg\u001b[39m\u001b[38;5;124m\"\u001b[39m), \n\u001b[0;32m     42\u001b[0m                               evaluation\u001b[38;5;241m.\u001b[39mdetected_labels_and_boxes_result(model_yolov8,\u001b[38;5;124m\"\u001b[39m\u001b[38;5;124mC:/Users/ege/Desktop/test_images/5/right.jpg\u001b[39m\u001b[38;5;124m\"\u001b[39m))\n",
      "\u001b[1;31mNameError\u001b[0m: name 'model_yolov8' is not defined"
     ]
    }
   ],
   "source": [
    "#from numpysocket import NumpySocket\n",
    "from evaluation import *\n",
    "import cv2\n",
    "import logging\n",
    "\n",
    "evaluation.initialize_models()\n",
    "\n",
    "HOST = ''\n",
    "PORT = 9999\n",
    "\n",
    "logger = logging.getLogger(\"OpenCV server\")\n",
    "logger.setLevel(logging.INFO)\n",
    "\"\"\"\n",
    "with NumpySocket() as s:\n",
    "    s.bind((HOST, PORT))\n",
    "\n",
    "    while True:\n",
    "        try:\n",
    "            s.listen()\n",
    "            logger.info(\"Started to listen port.\")\n",
    "            conn, addr = s.accept()\n",
    "\n",
    "            logger.info(f\"connection approved: {addr}\")\n",
    "            while conn:\n",
    "                array_of_frames = conn.recv()\n",
    "                if len(array_of_frames) == 0:\n",
    "                    break\n",
    "                frame_right = array_of_frames[0]\n",
    "                frame_left = array_of_frames[1]\n",
    "                \n",
    "                cv2.imshow(\"output\", frame_right)\n",
    "                cv2.imshow(\"output\", frame_left)\n",
    "                if cv2.waitKey(1) & 0xFF == ord('q'):\n",
    "                    break\n",
    "            logger.info(f\"disconnection:: {addr}\")\n",
    "        except ConnectionResetError:\n",
    "            pass\n",
    "\"\"\"\n",
    "stereo_vision_distance_result(cv2.imread(\"C:/Users/ege/Desktop/test_images/5/left.jpg\"), \n",
    "                              cv2.imread(\"C:/Users/ege/Desktop/test_images/5/right.jpg\"), \n",
    "                              detected_labels_and_boxes_result(model_yolov8,\"C:/Users/ege/Desktop/test_images/5/left.jpg\"), \n",
    "                              detected_labels_and_boxes_result(model_yolov8,\"C:/Users/ege/Desktop/test_images/5/right.jpg\"))"
   ]
  },
  {
   "cell_type": "code",
   "execution_count": 5,
   "id": "1c47ef50",
   "metadata": {},
   "outputs": [
    {
     "name": "stdout",
     "output_type": "stream",
     "text": [
      "Collecting timm\n",
      "  Obtaining dependency information for timm from https://files.pythonhosted.org/packages/f0/1e/05287cb8984229d101874433df472b1fa3dcd6f746ccb6e8a26c7deeb1c7/timm-0.9.10-py3-none-any.whl.metadata\n",
      "  Downloading timm-0.9.10-py3-none-any.whl.metadata (59 kB)\n",
      "     ---------------------------------------- 0.0/59.8 kB ? eta -:--:--\n",
      "     -------------------- ------------------- 30.7/59.8 kB ? eta -:--:--\n",
      "     -------------------------------------- 59.8/59.8 kB 635.7 kB/s eta 0:00:00\n",
      "Requirement already satisfied: torch>=1.7 in d:\\anaconda3\\lib\\site-packages (from timm) (2.1.0)\n",
      "Requirement already satisfied: torchvision in d:\\anaconda3\\lib\\site-packages (from timm) (0.16.0)\n",
      "Requirement already satisfied: pyyaml in d:\\anaconda3\\lib\\site-packages (from timm) (6.0)\n",
      "Requirement already satisfied: huggingface-hub in d:\\anaconda3\\lib\\site-packages (from timm) (0.15.1)\n",
      "Requirement already satisfied: safetensors in d:\\anaconda3\\lib\\site-packages (from timm) (0.3.2)\n",
      "Requirement already satisfied: filelock in d:\\anaconda3\\lib\\site-packages (from torch>=1.7->timm) (3.9.0)\n",
      "Requirement already satisfied: typing-extensions in d:\\anaconda3\\lib\\site-packages (from torch>=1.7->timm) (4.7.1)\n",
      "Requirement already satisfied: sympy in d:\\anaconda3\\lib\\site-packages (from torch>=1.7->timm) (1.11.1)\n",
      "Requirement already satisfied: networkx in d:\\anaconda3\\lib\\site-packages (from torch>=1.7->timm) (3.1)\n",
      "Requirement already satisfied: jinja2 in d:\\anaconda3\\lib\\site-packages (from torch>=1.7->timm) (3.1.2)\n",
      "Requirement already satisfied: fsspec in d:\\anaconda3\\lib\\site-packages (from torch>=1.7->timm) (2023.4.0)\n",
      "Requirement already satisfied: requests in d:\\anaconda3\\lib\\site-packages (from huggingface-hub->timm) (2.31.0)\n",
      "Requirement already satisfied: tqdm>=4.42.1 in d:\\anaconda3\\lib\\site-packages (from huggingface-hub->timm) (4.65.0)\n",
      "Requirement already satisfied: packaging>=20.9 in d:\\anaconda3\\lib\\site-packages (from huggingface-hub->timm) (23.1)\n",
      "Requirement already satisfied: numpy in d:\\anaconda3\\lib\\site-packages (from torchvision->timm) (1.24.3)\n",
      "Requirement already satisfied: pillow!=8.3.*,>=5.3.0 in d:\\anaconda3\\lib\\site-packages (from torchvision->timm) (9.4.0)\n",
      "Requirement already satisfied: colorama in d:\\anaconda3\\lib\\site-packages (from tqdm>=4.42.1->huggingface-hub->timm) (0.4.6)\n",
      "Requirement already satisfied: MarkupSafe>=2.0 in d:\\anaconda3\\lib\\site-packages (from jinja2->torch>=1.7->timm) (2.1.1)\n",
      "Requirement already satisfied: charset-normalizer<4,>=2 in d:\\anaconda3\\lib\\site-packages (from requests->huggingface-hub->timm) (2.0.4)\n",
      "Requirement already satisfied: idna<4,>=2.5 in d:\\anaconda3\\lib\\site-packages (from requests->huggingface-hub->timm) (3.4)\n",
      "Requirement already satisfied: urllib3<3,>=1.21.1 in d:\\anaconda3\\lib\\site-packages (from requests->huggingface-hub->timm) (1.26.16)\n",
      "Requirement already satisfied: certifi>=2017.4.17 in d:\\anaconda3\\lib\\site-packages (from requests->huggingface-hub->timm) (2023.7.22)\n",
      "Requirement already satisfied: mpmath>=0.19 in d:\\anaconda3\\lib\\site-packages (from sympy->torch>=1.7->timm) (1.3.0)\n",
      "Downloading timm-0.9.10-py3-none-any.whl (2.2 MB)\n",
      "   ---------------------------------------- 0.0/2.2 MB ? eta -:--:--\n",
      "   - -------------------------------------- 0.1/2.2 MB ? eta -:--:--\n",
      "   -- ------------------------------------- 0.1/2.2 MB 1.8 MB/s eta 0:00:02\n",
      "   ---- ----------------------------------- 0.3/2.2 MB 2.0 MB/s eta 0:00:02\n",
      "   ------- -------------------------------- 0.4/2.2 MB 2.1 MB/s eta 0:00:01\n",
      "   ------------ --------------------------- 0.7/2.2 MB 3.0 MB/s eta 0:00:01\n",
      "   ----------------- ---------------------- 1.0/2.2 MB 3.5 MB/s eta 0:00:01\n",
      "   ---------------------- ----------------- 1.3/2.2 MB 3.8 MB/s eta 0:00:01\n",
      "   ---------------------------- ----------- 1.6/2.2 MB 4.2 MB/s eta 0:00:01\n",
      "   --------------------------------- ------ 1.9/2.2 MB 4.5 MB/s eta 0:00:01\n",
      "   ---------------------------------------  2.2/2.2 MB 4.7 MB/s eta 0:00:01\n",
      "   ---------------------------------------- 2.2/2.2 MB 4.3 MB/s eta 0:00:00\n",
      "Installing collected packages: timm\n",
      "Successfully installed timm-0.9.10\n"
     ]
    }
   ],
   "source": [
    "!pip install timm"
   ]
  },
  {
   "cell_type": "code",
   "execution_count": null,
   "id": "daf4e698",
   "metadata": {},
   "outputs": [],
   "source": []
  }
 ],
 "metadata": {
  "kernelspec": {
   "display_name": "Python 3 (ipykernel)",
   "language": "python",
   "name": "python3"
  },
  "language_info": {
   "codemirror_mode": {
    "name": "ipython",
    "version": 3
   },
   "file_extension": ".py",
   "mimetype": "text/x-python",
   "name": "python",
   "nbconvert_exporter": "python",
   "pygments_lexer": "ipython3",
   "version": "3.11.5"
  }
 },
 "nbformat": 4,
 "nbformat_minor": 5
}
