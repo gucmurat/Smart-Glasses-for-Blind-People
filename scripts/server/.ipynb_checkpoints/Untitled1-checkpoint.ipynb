{
 "cells": [
  {
   "cell_type": "code",
   "execution_count": 27,
   "id": "7a9bf4d3",
   "metadata": {},
   "outputs": [],
   "source": [
    "from ultralytics import YOLO\n",
    "import cv2\n",
    "import torch\n",
    "import time\n",
    "import numpy as np\n",
    "from transformers import pipeline\n",
    "from PIL import Image\n",
    "import dist_measurement\n",
    "import scipy\n",
    "import scipy.optimize\n",
    "yolov8_path = '../../models/object-detection/v1/yolov8m.pt'\n",
    "wotr_path = '../../models/object-detection/v3/best_v3.pt'\n",
    "\n",
    "# model should pay attention to these class indexes\n",
    "wotr_class_pruned_indexes = [0, 1, 2, 3, 4, 12, 13, 14, 15, 16, 20, 21]\n",
    "\n",
    "# for these indexes, we may not measure distance\n",
    "wotr_class_important_indexes = [3, 4, 20, 21]\n",
    "\n",
    "model_yolov8 = None\n",
    "model_wotr = None\n",
    "model_midas = None\n",
    "model_captioning = None\n",
    "transform_midas = None\n",
    "device_midas = None"
   ]
  },
  {
   "cell_type": "code",
   "execution_count": 28,
   "id": "a0502212",
   "metadata": {},
   "outputs": [],
   "source": [
    "def initialize_models():\n",
    "    global model_yolov8\n",
    "    global model_wotr\n",
    "    global model_midas\n",
    "    global model_captioning\n",
    "    global transform_midas\n",
    "    global device_midas\n",
    "\n",
    "    model_yolov8 = YOLO(yolov8_path)\n",
    "    \n",
    "    model_wotr = YOLO(wotr_path)\n",
    "    \"\"\"\n",
    "    model_type = \"MiDaS_small\" \n",
    "    model_midas = torch.hub.load(\"intel-isl/MiDaS\", model_type)\n",
    "    device_midas = torch.device(\"mps\") if torch.cuda.is_available() else torch.device(\"cpu\")\n",
    "    model_midas.to(device_midas)\n",
    "    model_midas.eval()\n",
    "    \n",
    "    midas_transforms = torch.hub.load(\"intel-isl/MiDaS\", \"transforms\")\n",
    "    if model_type == \"DPT_Large\" or model_type == \"DPT_Hybrid\":\n",
    "        transform_midas = midas_transforms.dpt_transform\n",
    "    else:\n",
    "        transform_midas = midas_transforms.small_transform\n",
    "    \"\"\"\n",
    "    model_captioning = pipeline(\"image-to-text\", model=\"nlpconnect/vit-gpt2-image-captioning\")"
   ]
  },
  {
   "cell_type": "code",
   "execution_count": 29,
   "id": "b0600a06",
   "metadata": {},
   "outputs": [
    {
     "name": "stderr",
     "output_type": "stream",
     "text": [
      "Could not find image processor class in the image processor config or the model config. Loading based on pattern matching with the model's feature extractor configuration.\n",
      "D:\\anaconda3\\Lib\\site-packages\\transformers\\models\\vit\\feature_extraction_vit.py:28: FutureWarning: The class ViTFeatureExtractor is deprecated and will be removed in version 5 of Transformers. Please use ViTImageProcessor instead.\n",
      "  warnings.warn(\n"
     ]
    }
   ],
   "source": [
    "initialize_models()"
   ]
  },
  {
   "cell_type": "code",
   "execution_count": 30,
   "id": "f98867e9",
   "metadata": {},
   "outputs": [],
   "source": [
    "def detected_labels_and_boxes_result(model, image):\n",
    "    results = model.predict(image)\n",
    "    result = results[0]\n",
    "    return {'names': result.names, \"classes\": result.boxes.cls, \"boxes\": result.boxes.xyxy, \"confs\": result.boxes.conf}"
   ]
  },
  {
   "cell_type": "code",
   "execution_count": 31,
   "id": "2a65bb8d",
   "metadata": {},
   "outputs": [],
   "source": [
    "def image_captioning_result(image):\n",
    "    if not isinstance(image, str):\n",
    "        image = Image.fromarray(np.uint8(image)).convert('RGB')\n",
    "    return model_captioning(image)\n"
   ]
  },
  {
   "cell_type": "code",
   "execution_count": 32,
   "id": "ad7e07fb",
   "metadata": {},
   "outputs": [],
   "source": [
    "# example usage: get_model_output_from_camera(image_captioning_result, printable=True)\n",
    "def get_model_output_from_camera(model_method, show=False, printable=False):\n",
    "    cap = cv2.VideoCapture(0) \n",
    "    while True:\n",
    "        ret, frame = cap.read()  \n",
    "        if not ret:\n",
    "            break\n",
    "\n",
    "        result = model_method(frame)\n",
    "        if printable:\n",
    "            print(result)\n",
    "        if show:\n",
    "            cv2.imshow(\"output\", result)\n",
    "        if cv2.waitKey(1) & 0xFF == ord('q'):\n",
    "            break\n",
    "        time.sleep(1)\n",
    "\n",
    "    cap.release()\n",
    "    cv2.destroyAllWindows()\n",
    "\n",
    "def get_model_output_from_frame(model_method, frame ,show=False, printable=False):\n",
    "    result = model_method(frame)\n",
    "    if printable:\n",
    "        print(result)\n",
    "    if show:\n",
    "        cv2.imshow(\"output\", result)\n",
    "    cv2.destroyAllWindows()\n"
   ]
  },
  {
   "cell_type": "code",
   "execution_count": 33,
   "id": "89758403",
   "metadata": {},
   "outputs": [
    {
     "name": "stderr",
     "output_type": "stream",
     "text": [
      "\n",
      "image 1/1 C:\\Users\\ege\\Desktop\\test_images\\3\\right.jpg: 640x480 1 chair, 1 refrigerator, 1328.0ms\n",
      "Speed: 10.0ms preprocess, 1328.0ms inference, 0.0ms postprocess per image at shape (1, 3, 640, 480)\n"
     ]
    },
    {
     "name": "stdout",
     "output_type": "stream",
     "text": [
      "{'names': {0: 'person', 1: 'bicycle', 2: 'car', 3: 'motorcycle', 4: 'airplane', 5: 'bus', 6: 'train', 7: 'truck', 8: 'boat', 9: 'traffic light', 10: 'fire hydrant', 11: 'stop sign', 12: 'parking meter', 13: 'bench', 14: 'bird', 15: 'cat', 16: 'dog', 17: 'horse', 18: 'sheep', 19: 'cow', 20: 'elephant', 21: 'bear', 22: 'zebra', 23: 'giraffe', 24: 'backpack', 25: 'umbrella', 26: 'handbag', 27: 'tie', 28: 'suitcase', 29: 'frisbee', 30: 'skis', 31: 'snowboard', 32: 'sports ball', 33: 'kite', 34: 'baseball bat', 35: 'baseball glove', 36: 'skateboard', 37: 'surfboard', 38: 'tennis racket', 39: 'bottle', 40: 'wine glass', 41: 'cup', 42: 'fork', 43: 'knife', 44: 'spoon', 45: 'bowl', 46: 'banana', 47: 'apple', 48: 'sandwich', 49: 'orange', 50: 'broccoli', 51: 'carrot', 52: 'hot dog', 53: 'pizza', 54: 'donut', 55: 'cake', 56: 'chair', 57: 'couch', 58: 'potted plant', 59: 'bed', 60: 'dining table', 61: 'toilet', 62: 'tv', 63: 'laptop', 64: 'mouse', 65: 'remote', 66: 'keyboard', 67: 'cell phone', 68: 'microwave', 69: 'oven', 70: 'toaster', 71: 'sink', 72: 'refrigerator', 73: 'book', 74: 'clock', 75: 'vase', 76: 'scissors', 77: 'teddy bear', 78: 'hair drier', 79: 'toothbrush'}, 'classes': tensor([56., 72.]), 'boxes': tensor([[164.7885, 557.2238, 329.3760, 832.6332],\n",
      "        [400.0219, 410.5116, 446.4613, 585.9171]]), 'confs': tensor([0.9253, 0.7108])}\n"
     ]
    }
   ],
   "source": [
    "print(detected_labels_and_boxes_result(model_yolov8,\"C:/Users/ege/Desktop/test_images/3/right.jpg\"))"
   ]
  },
  {
   "cell_type": "code",
   "execution_count": 75,
   "id": "ed8cf71c",
   "metadata": {},
   "outputs": [],
   "source": [
    "import os\n",
    "def stereo_vision_distance_result(image_left, image_right, labels_boxes_json_left, labels_boxes_json_right):\n",
    "    #classes = labels_boxes_json[\"classes\"]\n",
    "    #boxes = labels_boxes_json[\"boxes\"]\n",
    "    # TODO \n",
    "    # returns distances dict for each boxes\n",
    "    # example output \n",
    "    # {'names': result.names, \"classes\": result.boxes.cls, \"boxes\": result.boxes.xyxy, \"confs\": result.boxes.conf, \"distances\": distances}\n",
    "    fl = 75-246.3441162109375*155/490.97529220581055\n",
    "    image_left = cv2.cvtColor(image_left, cv2.COLOR_BGR2RGB)\n",
    "    image_right = cv2.cvtColor(image_right, cv2.COLOR_BGR2RGB)\n",
    "    sz1 = image_right.shape[1]\n",
    "    sz2 = image_right.shape[0]\n",
    "    det = [labels_boxes_json_left[\"boxes\"], labels_boxes_json_right[\"boxes\"]]\n",
    "    lbls = [labels_boxes_json_left[\"classes\"], labels_boxes_json_right[\"classes\"]]\n",
    "    print(det)\n",
    "    print(lbls)\n",
    "    centre = sz1/2\n",
    "    def get_dist_to_centre_tl(box, cntr = centre):\n",
    "        pnts = np.array(dist_measurement.tlbr_to_corner(box))[:,0]\n",
    "        return abs(pnts - centre)\n",
    "    \n",
    "    def get_dist_to_centre_br(box, cntr = centre):\n",
    "        pnts = np.array(dist_measurement.tlbr_to_corner_br(box))[:,0]\n",
    "        return abs(pnts - centre)\n",
    "    cost = dist_measurement.get_cost(det, lbls = lbls)\n",
    "    tracks = scipy.optimize.linear_sum_assignment(cost)\n",
    "    print(tracks)\n",
    "    dists_tl =  dist_measurement.get_horiz_dist_corner_tl(det)\n",
    "    dists_br =  dist_measurement.get_horiz_dist_corner_br(det)\n",
    "    final_dists = []\n",
    "    dctl = get_dist_to_centre_tl(det[0])\n",
    "    dcbr = get_dist_to_centre_br(det[0])\n",
    "    print(dctl)\n",
    "    print(dcbr)\n",
    "    print(dists_tl)\n",
    "    print(dists_br)\n",
    "    for i, j in zip(*tracks):\n",
    "        if lbls[i] is None:\n",
    "            continue\n",
    "        if dctl[i] < dcbr[i]:\n",
    "            final_dists.append((dists_tl[i][j],lbls[i]))\n",
    "        else:\n",
    "            final_dists.append((dists_br[i][j],lbls[i]))\n",
    "        \n",
    "        \n",
    "    tantheta = (1/(155-fl))*(59.0/2)*sz1/246.3441162109375\n",
    "    fd = [i for (i,j) in final_dists]\n",
    "    dists_away = (59.0/2)*sz1*(1/tantheta)/np.array(fd)+fl\n",
    "    cat_dist = []\n",
    "    for i in range(len(dists_away)):\n",
    "        cat_dist.append(f'{lbls[i]} {dists_away[i]:.1f}cm')\n",
    "        print(\"Estimation:\")\n",
    "        print(f'{lbls[i]} is {dists_away[i]:.1f}cm away')\n",
    "    coordinates = det[0]\n",
    "    for coord_ind in range(len(cat_dist)):\n",
    "        label = \"{:.1f}\".format(dists_away[coord_ind]) + \" cm away\"\n",
    "        x_min, y_min, x_max, y_max = coordinates[coord_ind].tolist()\n",
    "        cv2.rectangle(image_left, (int(x_min), int(y_min)), (int(x_max), int(y_max)), (0, 255, 0), 2)\n",
    "        cv2.putText(image_left, label, (int(x_min), int(y_min) - 10), cv2.FONT_HERSHEY_SIMPLEX, 0.5, (0, 0, 255), 2)\n",
    "        #output_filename = os.path.join(output_folder, f\"output_image_{counter}.jpg\")\n",
    "        #cv2.imwrite(output_filename, image_left)\n",
    "    cv2.imshow(\"Image with Distances\", image_left)\n",
    "    cv2.waitKey(0)\n",
    "    cv2.destroyAllWindows()"
   ]
  },
  {
   "cell_type": "code",
   "execution_count": 76,
   "id": "f8afda17",
   "metadata": {},
   "outputs": [
    {
     "name": "stderr",
     "output_type": "stream",
     "text": [
      "\n",
      "image 1/1 C:\\Users\\ege\\Desktop\\test_images\\5\\left.jpg: 640x480 1 laptop, 1 mouse, 1 keyboard, 1088.9ms\n",
      "Speed: 0.9ms preprocess, 1088.9ms inference, 4.8ms postprocess per image at shape (1, 3, 640, 480)\n",
      "\n",
      "image 1/1 C:\\Users\\ege\\Desktop\\test_images\\5\\right.jpg: 640x480 1 laptop, 1 mouse, 1 keyboard, 1114.3ms\n",
      "Speed: 8.1ms preprocess, 1114.3ms inference, 5.1ms postprocess per image at shape (1, 3, 640, 480)\n"
     ]
    },
    {
     "name": "stdout",
     "output_type": "stream",
     "text": [
      "[tensor([[494.9716, 560.7588, 767.4134, 765.1683],\n",
      "        [359.7787, 672.5951, 421.9709, 699.5890],\n",
      "        [505.7495, 703.0255, 729.0563, 732.0220]]), tensor([[267.3127, 494.3712, 516.9856, 689.4243],\n",
      "        [168.8449, 606.2177, 232.5772, 633.2079],\n",
      "        [289.2683, 628.9857, 503.0233, 660.1743]])]\n",
      "[tensor([63., 64., 66.]), tensor([63., 64., 66.])]\n",
      "(array([0, 1, 2], dtype=int64), array([0, 1, 2], dtype=int64))\n",
      "[     110.97      24.221      121.75]\n",
      "[     383.41      37.971      345.06]\n",
      "[[     227.66      326.13       205.7]\n",
      " [     92.466      190.93       70.51]\n",
      " [     238.44       336.9      216.48]]\n",
      "[[     250.43      534.84      264.39]\n",
      " [    -95.015      189.39     -81.052]\n",
      " [     212.07      496.48      226.03]]\n"
     ]
    },
    {
     "ename": "NameError",
     "evalue": "name 'Null' is not defined",
     "output_type": "error",
     "traceback": [
      "\u001b[1;31m---------------------------------------------------------------------------\u001b[0m",
      "\u001b[1;31mNameError\u001b[0m                                 Traceback (most recent call last)",
      "Cell \u001b[1;32mIn[76], line 1\u001b[0m\n\u001b[1;32m----> 1\u001b[0m stereo_vision_distance_result(cv2\u001b[38;5;241m.\u001b[39mimread(\u001b[38;5;124m\"\u001b[39m\u001b[38;5;124mC:/Users/ege/Desktop/test_images/5/left.jpg\u001b[39m\u001b[38;5;124m\"\u001b[39m), \n\u001b[0;32m      2\u001b[0m                               cv2\u001b[38;5;241m.\u001b[39mimread(\u001b[38;5;124m\"\u001b[39m\u001b[38;5;124mC:/Users/ege/Desktop/test_images/5/right.jpg\u001b[39m\u001b[38;5;124m\"\u001b[39m), \n\u001b[0;32m      3\u001b[0m                               detected_labels_and_boxes_result(model_yolov8,\u001b[38;5;124m\"\u001b[39m\u001b[38;5;124mC:/Users/ege/Desktop/test_images/5/left.jpg\u001b[39m\u001b[38;5;124m\"\u001b[39m), \n\u001b[0;32m      4\u001b[0m                               detected_labels_and_boxes_result(model_yolov8,\u001b[38;5;124m\"\u001b[39m\u001b[38;5;124mC:/Users/ege/Desktop/test_images/5/right.jpg\u001b[39m\u001b[38;5;124m\"\u001b[39m))\n",
      "Cell \u001b[1;32mIn[75], line 39\u001b[0m, in \u001b[0;36mstereo_vision_distance_result\u001b[1;34m(image_left, image_right, labels_boxes_json_left, labels_boxes_json_right)\u001b[0m\n\u001b[0;32m     37\u001b[0m \u001b[38;5;28mprint\u001b[39m(dists_br)\n\u001b[0;32m     38\u001b[0m \u001b[38;5;28;01mfor\u001b[39;00m i, j \u001b[38;5;129;01min\u001b[39;00m \u001b[38;5;28mzip\u001b[39m(\u001b[38;5;241m*\u001b[39mtracks):\n\u001b[1;32m---> 39\u001b[0m     \u001b[38;5;28;01mif\u001b[39;00m lbls[i] \u001b[38;5;129;01mis\u001b[39;00m Null:\n\u001b[0;32m     40\u001b[0m         \u001b[38;5;28;01mcontinue\u001b[39;00m\n\u001b[0;32m     41\u001b[0m     \u001b[38;5;28;01mif\u001b[39;00m dctl[i] \u001b[38;5;241m<\u001b[39m dcbr[i]:\n",
      "\u001b[1;31mNameError\u001b[0m: name 'Null' is not defined"
     ]
    }
   ],
   "source": [
    "stereo_vision_distance_result(cv2.imread(\"C:/Users/ege/Desktop/test_images/5/left.jpg\"), \n",
    "                              cv2.imread(\"C:/Users/ege/Desktop/test_images/5/right.jpg\"), \n",
    "                              detected_labels_and_boxes_result(model_yolov8,\"C:/Users/ege/Desktop/test_images/5/left.jpg\"), \n",
    "                              detected_labels_and_boxes_result(model_yolov8,\"C:/Users/ege/Desktop/test_images/5/right.jpg\"))"
   ]
  },
  {
   "cell_type": "code",
   "execution_count": null,
   "id": "c3cabf37",
   "metadata": {},
   "outputs": [],
   "source": []
  }
 ],
 "metadata": {
  "kernelspec": {
   "display_name": "Python 3 (ipykernel)",
   "language": "python",
   "name": "python3"
  },
  "language_info": {
   "codemirror_mode": {
    "name": "ipython",
    "version": 3
   },
   "file_extension": ".py",
   "mimetype": "text/x-python",
   "name": "python",
   "nbconvert_exporter": "python",
   "pygments_lexer": "ipython3",
   "version": "3.11.5"
  }
 },
 "nbformat": 4,
 "nbformat_minor": 5
}
