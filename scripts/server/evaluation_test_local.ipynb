{
 "cells": [
  {
   "cell_type": "code",
   "execution_count": 1,
   "id": "cb08145a",
   "metadata": {},
   "outputs": [
    {
     "name": "stderr",
     "output_type": "stream",
     "text": [
      "Using cache found in C:\\Users\\ege/.cache\\torch\\hub\\intel-isl_MiDaS_master\n"
     ]
    },
    {
     "name": "stdout",
     "output_type": "stream",
     "text": [
      "Loading weights:  None\n"
     ]
    },
    {
     "name": "stderr",
     "output_type": "stream",
     "text": [
      "Using cache found in C:\\Users\\ege/.cache\\torch\\hub\\rwightman_gen-efficientnet-pytorch_master\n",
      "Using cache found in C:\\Users\\ege/.cache\\torch\\hub\\intel-isl_MiDaS_master\n",
      "Could not find image processor class in the image processor config or the model config. Loading based on pattern matching with the model's feature extractor configuration.\n",
      "D:\\anaconda3\\Lib\\site-packages\\transformers\\models\\vit\\feature_extraction_vit.py:28: FutureWarning: The class ViTFeatureExtractor is deprecated and will be removed in version 5 of Transformers. Please use ViTImageProcessor instead.\n",
      "  warnings.warn(\n"
     ]
    }
   ],
   "source": [
    "#from numpysocket import NumpySocket\n",
    "import cv2\n",
    "import evaluation\n",
    "\n",
    "evaluation.initialize_models()"
   ]
  },
  {
   "cell_type": "code",
   "execution_count": 2,
   "id": "cbb0342c",
   "metadata": {},
   "outputs": [],
   "source": [
    "calib_case1_img_left_path = \"../../documents/calibration_images/1/left.png\"\n",
    "calib_case1_img_right_path = \"../../documents/calibration_images/1/right.png\"\n",
    "calib_case2_img_left_path = \"../../documents/calibration_images/2/left.png\"\n",
    "calib_case2_img_right_path = \"../../documents/calibration_images/2/right.png\""
   ]
  },
  {
   "cell_type": "code",
   "execution_count": 3,
   "id": "423948ad",
   "metadata": {},
   "outputs": [
    {
     "name": "stderr",
     "output_type": "stream",
     "text": [
      "\n",
      "image 1/1 C:\\Users\\ege\\Smart-Glasses-for-Blind-People\\scripts\\server\\..\\..\\documents\\calibration_images\\1\\left.png: 480x640 1 bottle, 539.7ms\n",
      "Speed: 3.0ms preprocess, 539.7ms inference, 2.0ms postprocess per image at shape (1, 3, 480, 640)\n",
      "\n",
      "image 1/1 C:\\Users\\ege\\Smart-Glasses-for-Blind-People\\scripts\\server\\..\\..\\documents\\calibration_images\\1\\right.png: 480x640 1 bottle, 457.7ms\n",
      "Speed: 2.0ms preprocess, 457.7ms inference, 1.0ms postprocess per image at shape (1, 3, 480, 640)\n",
      "\n",
      "image 1/1 C:\\Users\\ege\\Smart-Glasses-for-Blind-People\\scripts\\server\\..\\..\\documents\\calibration_images\\2\\left.png: 480x640 1 bottle, 503.2ms\n",
      "Speed: 2.0ms preprocess, 503.2ms inference, 1.0ms postprocess per image at shape (1, 3, 480, 640)\n",
      "\n",
      "image 1/1 C:\\Users\\ege\\Smart-Glasses-for-Blind-People\\scripts\\server\\..\\..\\documents\\calibration_images\\2\\right.png: 480x640 1 bottle, 432.8ms\n",
      "Speed: 2.0ms preprocess, 432.8ms inference, 3.0ms postprocess per image at shape (1, 3, 480, 640)\n"
     ]
    },
    {
     "name": "stdout",
     "output_type": "stream",
     "text": [
      "Image 1:\n",
      "{'names': {0: 'person', 1: 'bicycle', 2: 'car', 3: 'motorcycle', 4: 'airplane', 5: 'bus', 6: 'train', 7: 'truck', 8: 'boat', 9: 'traffic light', 10: 'fire hydrant', 11: 'stop sign', 12: 'parking meter', 13: 'bench', 14: 'bird', 15: 'cat', 16: 'dog', 17: 'horse', 18: 'sheep', 19: 'cow', 20: 'elephant', 21: 'bear', 22: 'zebra', 23: 'giraffe', 24: 'backpack', 25: 'umbrella', 26: 'handbag', 27: 'tie', 28: 'suitcase', 29: 'frisbee', 30: 'skis', 31: 'snowboard', 32: 'sports ball', 33: 'kite', 34: 'baseball bat', 35: 'baseball glove', 36: 'skateboard', 37: 'surfboard', 38: 'tennis racket', 39: 'bottle', 40: 'wine glass', 41: 'cup', 42: 'fork', 43: 'knife', 44: 'spoon', 45: 'bowl', 46: 'banana', 47: 'apple', 48: 'sandwich', 49: 'orange', 50: 'broccoli', 51: 'carrot', 52: 'hot dog', 53: 'pizza', 54: 'donut', 55: 'cake', 56: 'chair', 57: 'couch', 58: 'potted plant', 59: 'bed', 60: 'dining table', 61: 'toilet', 62: 'tv', 63: 'laptop', 64: 'mouse', 65: 'remote', 66: 'keyboard', 67: 'cell phone', 68: 'microwave', 69: 'oven', 70: 'toaster', 71: 'sink', 72: 'refrigerator', 73: 'book', 74: 'clock', 75: 'vase', 76: 'scissors', 77: 'teddy bear', 78: 'hair drier', 79: 'toothbrush'}, 'classes': tensor([39.]), 'boxes': tensor([[321.1769,  53.7990, 392.5481, 273.7332]]), 'confs': tensor([0.9383]), 'distances': array([       59.4], dtype=float32)}\n",
      "Image 2:\n",
      "{'names': {0: 'person', 1: 'bicycle', 2: 'car', 3: 'motorcycle', 4: 'airplane', 5: 'bus', 6: 'train', 7: 'truck', 8: 'boat', 9: 'traffic light', 10: 'fire hydrant', 11: 'stop sign', 12: 'parking meter', 13: 'bench', 14: 'bird', 15: 'cat', 16: 'dog', 17: 'horse', 18: 'sheep', 19: 'cow', 20: 'elephant', 21: 'bear', 22: 'zebra', 23: 'giraffe', 24: 'backpack', 25: 'umbrella', 26: 'handbag', 27: 'tie', 28: 'suitcase', 29: 'frisbee', 30: 'skis', 31: 'snowboard', 32: 'sports ball', 33: 'kite', 34: 'baseball bat', 35: 'baseball glove', 36: 'skateboard', 37: 'surfboard', 38: 'tennis racket', 39: 'bottle', 40: 'wine glass', 41: 'cup', 42: 'fork', 43: 'knife', 44: 'spoon', 45: 'bowl', 46: 'banana', 47: 'apple', 48: 'sandwich', 49: 'orange', 50: 'broccoli', 51: 'carrot', 52: 'hot dog', 53: 'pizza', 54: 'donut', 55: 'cake', 56: 'chair', 57: 'couch', 58: 'potted plant', 59: 'bed', 60: 'dining table', 61: 'toilet', 62: 'tv', 63: 'laptop', 64: 'mouse', 65: 'remote', 66: 'keyboard', 67: 'cell phone', 68: 'microwave', 69: 'oven', 70: 'toaster', 71: 'sink', 72: 'refrigerator', 73: 'book', 74: 'clock', 75: 'vase', 76: 'scissors', 77: 'teddy bear', 78: 'hair drier', 79: 'toothbrush'}, 'classes': tensor([39.]), 'boxes': tensor([[322.6621, 107.8432, 372.0470, 257.5311]]), 'confs': tensor([0.9219]), 'distances': array([       89.1], dtype=float32)}\n"
     ]
    }
   ],
   "source": [
    "image_info1 = evaluation.stereo_vision_distance_result(cv2.imread(calib_case1_img_left_path), \n",
    "                              cv2.imread(calib_case1_img_right_path), \n",
    "                              evaluation.detected_labels_and_boxes_result(evaluation.model_yolov8,calib_case1_img_left_path), \n",
    "                              evaluation.detected_labels_and_boxes_result(evaluation.model_yolov8,calib_case1_img_right_path))\n",
    "image_info2 = evaluation.stereo_vision_distance_result(cv2.imread(calib_case2_img_left_path), \n",
    "                              cv2.imread(calib_case2_img_right_path), \n",
    "                              evaluation.detected_labels_and_boxes_result(evaluation.model_yolov8,calib_case2_img_left_path), \n",
    "                              evaluation.detected_labels_and_boxes_result(evaluation.model_yolov8,calib_case2_img_right_path))\n",
    "print(\"Image 1:\")\n",
    "print(image_info1)\n",
    "print(\"Image 2:\")\n",
    "print(image_info2)"
   ]
  },
  {
   "cell_type": "code",
   "execution_count": null,
   "id": "cd49119a",
   "metadata": {},
   "outputs": [],
   "source": []
  }
 ],
 "metadata": {
  "kernelspec": {
   "display_name": "Python 3 (ipykernel)",
   "language": "python",
   "name": "python3"
  },
  "language_info": {
   "codemirror_mode": {
    "name": "ipython",
    "version": 3
   },
   "file_extension": ".py",
   "mimetype": "text/x-python",
   "name": "python",
   "nbconvert_exporter": "python",
   "pygments_lexer": "ipython3",
   "version": "3.11.5"
  }
 },
 "nbformat": 4,
 "nbformat_minor": 5
}
