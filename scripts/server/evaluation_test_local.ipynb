{
 "cells": [
  {
   "cell_type": "code",
   "execution_count": 4,
   "id": "cb08145a",
   "metadata": {},
   "outputs": [
    {
     "name": "stderr",
     "output_type": "stream",
     "text": [
      "Using cache found in C:\\Users\\ege/.cache\\torch\\hub\\intel-isl_MiDaS_master\n"
     ]
    },
    {
     "name": "stdout",
     "output_type": "stream",
     "text": [
      "Loading weights:  None\n"
     ]
    },
    {
     "name": "stderr",
     "output_type": "stream",
     "text": [
      "Using cache found in C:\\Users\\ege/.cache\\torch\\hub\\rwightman_gen-efficientnet-pytorch_master\n",
      "Using cache found in C:\\Users\\ege/.cache\\torch\\hub\\intel-isl_MiDaS_master\n",
      "Could not find image processor class in the image processor config or the model config. Loading based on pattern matching with the model's feature extractor configuration.\n",
      "D:\\anaconda3\\Lib\\site-packages\\transformers\\models\\vit\\feature_extraction_vit.py:28: FutureWarning: The class ViTFeatureExtractor is deprecated and will be removed in version 5 of Transformers. Please use ViTImageProcessor instead.\n",
      "  warnings.warn(\n"
     ]
    }
   ],
   "source": [
    "#from numpysocket import NumpySocket\n",
    "import cv2\n",
    "import evaluation\n",
    "\n",
    "evaluation.initialize_models()"
   ]
  },
  {
   "cell_type": "code",
   "execution_count": 5,
   "id": "cbb0342c",
   "metadata": {},
   "outputs": [],
   "source": [
    "calib_case1_img_left_path = \"../../documents/calibration_images/8/left.png\"\n",
    "calib_case1_img_right_path = \"../../documents/calibration_images/8/right.png\"\n",
    "calib_case2_img_left_path = \"../../documents/calibration_images/6/left2.jpg\"\n",
    "calib_case2_img_right_path = \"../../documents/calibration_images/6/right2.jpg\"\n",
    "\n",
    "calib_case3_img_left_path = \"../../documents/calibration_images/7/left1.jpg\"\n",
    "calib_case3_img_right_path = \"../../documents/calibration_images/7/right1.jpg\"\n",
    "calib_case4_img_left_path = \"../../documents/calibration_images/9/left.png\"\n",
    "calib_case4_img_right_path = \"../../documents/calibration_images/9/right.png\""
   ]
  },
  {
   "cell_type": "code",
   "execution_count": 6,
   "id": "423948ad",
   "metadata": {},
   "outputs": [
    {
     "name": "stderr",
     "output_type": "stream",
     "text": [
      "\n",
      "0: 480x640 1 cup, 1 apple, 1 dining table, 709.8ms\n",
      "Speed: 3.1ms preprocess, 709.8ms inference, 4.6ms postprocess per image at shape (1, 3, 480, 640)\n",
      "\n",
      "0: 480x640 1 cup, 1 apple, 828.2ms\n",
      "Speed: 2.6ms preprocess, 828.2ms inference, 1.5ms postprocess per image at shape (1, 3, 480, 640)\n"
     ]
    },
    {
     "name": "stdout",
     "output_type": "stream",
     "text": [
      "{0: 'person', 1: 'bicycle', 2: 'car', 3: 'motorcycle', 4: 'airplane', 5: 'bus', 6: 'train', 7: 'truck', 8: 'boat', 9: 'traffic light', 10: 'fire hydrant', 11: 'stop sign', 12: 'parking meter', 13: 'bench', 14: 'bird', 15: 'cat', 16: 'dog', 17: 'horse', 18: 'sheep', 19: 'cow', 20: 'elephant', 21: 'bear', 22: 'zebra', 23: 'giraffe', 24: 'backpack', 25: 'umbrella', 26: 'handbag', 27: 'tie', 28: 'suitcase', 29: 'frisbee', 30: 'skis', 31: 'snowboard', 32: 'sports ball', 33: 'kite', 34: 'baseball bat', 35: 'baseball glove', 36: 'skateboard', 37: 'surfboard', 38: 'tennis racket', 39: 'bottle', 40: 'wine glass', 41: 'cup', 42: 'fork', 43: 'knife', 44: 'spoon', 45: 'bowl', 46: 'banana', 47: 'apple', 48: 'sandwich', 49: 'orange', 50: 'broccoli', 51: 'carrot', 52: 'hot dog', 53: 'pizza', 54: 'donut', 55: 'cake', 56: 'chair', 57: 'couch', 58: 'potted plant', 59: 'bed', 60: 'dining table', 61: 'toilet', 62: 'tv', 63: 'laptop', 64: 'mouse', 65: 'remote', 66: 'keyboard', 67: 'cell phone', 68: 'microwave', 69: 'oven', 70: 'toaster', 71: 'sink', 72: 'refrigerator', 73: 'book', 74: 'clock', 75: 'vase', 76: 'scissors', 77: 'teddy bear', 78: 'hair drier', 79: 'toothbrush'}\n",
      "tensor([[ 76.7745, 192.6932, 239.5444, 319.6689]])\n",
      "tensor([[245.2517, 213.7807, 307.6746, 282.0396]])\n"
     ]
    },
    {
     "name": "stderr",
     "output_type": "stream",
     "text": [
      "\n",
      "0: 480x640 (no detections), 841.4ms\n",
      "Speed: 3.8ms preprocess, 841.4ms inference, 1.0ms postprocess per image at shape (1, 3, 480, 640)\n",
      "\n",
      "0: 480x640 (no detections), 856.0ms\n",
      "Speed: 1.8ms preprocess, 856.0ms inference, 1.2ms postprocess per image at shape (1, 3, 480, 640)\n",
      "\n"
     ]
    },
    {
     "name": "stdout",
     "output_type": "stream",
     "text": [
      "{0: 'tree', 1: 'red_light', 2: 'green_light', 3: 'crosswalk', 4: 'tactile_paving', 5: 'sign', 6: 'pedestrian', 7: 'bicycle', 8: 'bus', 9: 'truck', 10: 'car', 11: 'motorcycle', 12: 'reflective_cone', 13: 'ashcan', 14: 'warning_column', 15: 'roadblock', 16: 'pole', 17: 'dog', 18: 'tricycle', 19: 'fire_hydrant', 20: 'downstair', 21: 'upstair'}\n"
     ]
    },
    {
     "name": "stderr",
     "output_type": "stream",
     "text": [
      "0: 480x640 1 apple, 2 refrigerators, 886.2ms\n",
      "Speed: 2.3ms preprocess, 886.2ms inference, 4.2ms postprocess per image at shape (1, 3, 480, 640)\n",
      "\n",
      "0: 480x640 1 apple, 2 refrigerators, 791.6ms\n",
      "Speed: 1.5ms preprocess, 791.6ms inference, 4.0ms postprocess per image at shape (1, 3, 480, 640)\n",
      "\n"
     ]
    },
    {
     "name": "stdout",
     "output_type": "stream",
     "text": [
      "{0: 'person', 1: 'bicycle', 2: 'car', 3: 'motorcycle', 4: 'airplane', 5: 'bus', 6: 'train', 7: 'truck', 8: 'boat', 9: 'traffic light', 10: 'fire hydrant', 11: 'stop sign', 12: 'parking meter', 13: 'bench', 14: 'bird', 15: 'cat', 16: 'dog', 17: 'horse', 18: 'sheep', 19: 'cow', 20: 'elephant', 21: 'bear', 22: 'zebra', 23: 'giraffe', 24: 'backpack', 25: 'umbrella', 26: 'handbag', 27: 'tie', 28: 'suitcase', 29: 'frisbee', 30: 'skis', 31: 'snowboard', 32: 'sports ball', 33: 'kite', 34: 'baseball bat', 35: 'baseball glove', 36: 'skateboard', 37: 'surfboard', 38: 'tennis racket', 39: 'bottle', 40: 'wine glass', 41: 'cup', 42: 'fork', 43: 'knife', 44: 'spoon', 45: 'bowl', 46: 'banana', 47: 'apple', 48: 'sandwich', 49: 'orange', 50: 'broccoli', 51: 'carrot', 52: 'hot dog', 53: 'pizza', 54: 'donut', 55: 'cake', 56: 'chair', 57: 'couch', 58: 'potted plant', 59: 'bed', 60: 'dining table', 61: 'toilet', 62: 'tv', 63: 'laptop', 64: 'mouse', 65: 'remote', 66: 'keyboard', 67: 'cell phone', 68: 'microwave', 69: 'oven', 70: 'toaster', 71: 'sink', 72: 'refrigerator', 73: 'book', 74: 'clock', 75: 'vase', 76: 'scissors', 77: 'teddy bear', 78: 'hair drier', 79: 'toothbrush'}\n",
      "tensor([[357.3151, 218.3849, 405.6059, 264.6402]])\n"
     ]
    },
    {
     "name": "stderr",
     "output_type": "stream",
     "text": [
      "0: 480x640 (no detections), 699.8ms\n",
      "Speed: 9.3ms preprocess, 699.8ms inference, 0.5ms postprocess per image at shape (1, 3, 480, 640)\n",
      "\n",
      "0: 480x640 (no detections), 689.6ms\n",
      "Speed: 2.0ms preprocess, 689.6ms inference, 1.7ms postprocess per image at shape (1, 3, 480, 640)\n"
     ]
    },
    {
     "name": "stdout",
     "output_type": "stream",
     "text": [
      "{0: 'tree', 1: 'red_light', 2: 'green_light', 3: 'crosswalk', 4: 'tactile_paving', 5: 'sign', 6: 'pedestrian', 7: 'bicycle', 8: 'bus', 9: 'truck', 10: 'car', 11: 'motorcycle', 12: 'reflective_cone', 13: 'ashcan', 14: 'warning_column', 15: 'roadblock', 16: 'pole', 17: 'dog', 18: 'tricycle', 19: 'fire_hydrant', 20: 'downstair', 21: 'upstair'}\n",
      "Image 1:\n",
      "[[58.265890153198974, 11, 'cup'], [91.3531562041533, 12, 'apple']]\n",
      "Image 2:\n",
      "[[120.00000000000006, 12, 'apple']]\n"
     ]
    }
   ],
   "source": [
    "\"\"\"\n",
    "image_info1 = evaluation.stereo_vision_distance_result(cv2.imread(calib_case1_img_left_path), \n",
    "                              cv2.imread(calib_case1_img_right_path), \n",
    "                              evaluation.detected_labels_and_boxes_result(evaluation.model_yolov8,calib_case1_img_left_path), \n",
    "                              evaluation.detected_labels_and_boxes_result(evaluation.model_yolov8,calib_case1_img_right_path))\n",
    "image_info2 = evaluation.stereo_vision_distance_result(cv2.imread(calib_case2_img_left_path), \n",
    "                              cv2.imread(calib_case2_img_right_path), \n",
    "                              evaluation.detected_labels_and_boxes_result(evaluation.model_yolov8,calib_case2_img_left_path), \n",
    "                              evaluation.detected_labels_and_boxes_result(evaluation.model_yolov8,calib_case2_img_right_path))\n",
    "\"\"\"\n",
    "\n",
    "image_info1 = evaluation.get_distance_values_from_objects(cv2.imread(calib_case3_img_left_path), \n",
    "                              cv2.imread(calib_case3_img_right_path))\n",
    "image_info2 = evaluation.get_distance_values_from_objects(cv2.imread(calib_case2_img_left_path), \n",
    "                              cv2.imread(calib_case2_img_right_path))\n",
    "print(\"Image 1:\")\n",
    "print(image_info1)\n",
    "print(\"Image 2:\")\n",
    "print(image_info2)\n"
   ]
  },
  {
   "cell_type": "code",
   "execution_count": null,
   "id": "cd49119a",
   "metadata": {},
   "outputs": [],
   "source": [
    "evaluation.depth_map_result(calib_case1_img_left_path)"
   ]
  },
  {
   "cell_type": "code",
   "execution_count": null,
   "id": "9e252511",
   "metadata": {},
   "outputs": [],
   "source": [
    "evaluation.depth_map_result(calib_case1_img_right_path)"
   ]
  },
  {
   "cell_type": "code",
   "execution_count": null,
   "id": "56e2ff43",
   "metadata": {},
   "outputs": [],
   "source": [
    "evaluation.depth_map_result(calib_case2_img_left_path)"
   ]
  },
  {
   "cell_type": "code",
   "execution_count": null,
   "id": "d11997be",
   "metadata": {},
   "outputs": [],
   "source": [
    "evaluation.depth_map_result(calib_case2_img_right_path)"
   ]
  },
  {
   "cell_type": "code",
   "execution_count": null,
   "id": "ad0d7ff6",
   "metadata": {},
   "outputs": [],
   "source": [
    "evaluation.depth_map_result(calib_case3_img_left_path)"
   ]
  },
  {
   "cell_type": "code",
   "execution_count": null,
   "id": "5ba4ddaa",
   "metadata": {},
   "outputs": [],
   "source": [
    "evaluation.depth_map_result(calib_case3_img_right_path)"
   ]
  },
  {
   "cell_type": "code",
   "execution_count": null,
   "id": "c8bec6eb",
   "metadata": {},
   "outputs": [],
   "source": [
    "evaluation.depth_map_result(calib_case4_img_left_path)"
   ]
  },
  {
   "cell_type": "code",
   "execution_count": null,
   "id": "5fed067e",
   "metadata": {},
   "outputs": [],
   "source": [
    "evaluation.depth_map_result(calib_case3_img_right_path)"
   ]
  },
  {
   "cell_type": "code",
   "execution_count": null,
   "id": "a991197a",
   "metadata": {},
   "outputs": [],
   "source": []
  }
 ],
 "metadata": {
  "kernelspec": {
   "display_name": "Python 3 (ipykernel)",
   "language": "python",
   "name": "python3"
  },
  "language_info": {
   "codemirror_mode": {
    "name": "ipython",
    "version": 3
   },
   "file_extension": ".py",
   "mimetype": "text/x-python",
   "name": "python",
   "nbconvert_exporter": "python",
   "pygments_lexer": "ipython3",
   "version": "3.11.5"
  }
 },
 "nbformat": 4,
 "nbformat_minor": 5
}
