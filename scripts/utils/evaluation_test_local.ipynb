{
 "cells": [
  {
   "cell_type": "code",
   "execution_count": 4,
   "id": "cb08145a",
   "metadata": {},
   "outputs": [
    {
     "name": "stderr",
     "output_type": "stream",
     "text": [
      "Using cache found in C:\\Users\\ege/.cache\\torch\\hub\\intel-isl_MiDaS_master\n"
     ]
    },
    {
     "name": "stdout",
     "output_type": "stream",
     "text": [
      "Loading weights:  None\n"
     ]
    },
    {
     "name": "stderr",
     "output_type": "stream",
     "text": [
      "Using cache found in C:\\Users\\ege/.cache\\torch\\hub\\rwightman_gen-efficientnet-pytorch_master\n",
      "Using cache found in C:\\Users\\ege/.cache\\torch\\hub\\intel-isl_MiDaS_master\n",
      "Could not find image processor class in the image processor config or the model config. Loading based on pattern matching with the model's feature extractor configuration.\n",
      "D:\\anaconda3\\Lib\\site-packages\\transformers\\models\\vit\\feature_extraction_vit.py:28: FutureWarning: The class ViTFeatureExtractor is deprecated and will be removed in version 5 of Transformers. Please use ViTImageProcessor instead.\n",
      "  warnings.warn(\n"
     ]
    }
   ],
   "source": [
    "#from numpysocket import NumpySocket\n",
    "import cv2\n",
    "import evaluation\n",
    "\n",
    "evaluation.initialize_models()"
   ]
  },
  {
   "cell_type": "code",
   "execution_count": 5,
   "id": "cbb0342c",
   "metadata": {},
   "outputs": [],
   "source": [
    "calib_case1_img_left_path = \"../../documents/calibration_images/8/left.png\"\n",
    "calib_case1_img_right_path = \"../../documents/calibration_images/8/right.png\"\n",
    "calib_case2_img_left_path = \"../../documents/calibration_images/6/left2.jpg\"\n",
    "calib_case2_img_right_path = \"../../documents/calibration_images/6/right2.jpg\"\n",
    "\n",
    "calib_case3_img_left_path = \"../../documents/calibration_images/7/left1.jpg\"\n",
    "calib_case3_img_right_path = \"../../documents/calibration_images/7/right1.jpg\"\n",
    "calib_case4_img_left_path = \"../../documents/calibration_images/9/left.png\"\n",
    "calib_case4_img_right_path = \"../../documents/calibration_images/9/right.png\""
   ]
  },
  {
   "cell_type": "code",
   "execution_count": 6,
   "id": "423948ad",
   "metadata": {},
   "outputs": [
    {
     "name": "stderr",
     "output_type": "stream",
     "text": [
      "\n",
      "0: 480x640 1 cup, 1 apple, 1 dining table, 498.5ms\n",
      "Speed: 3.9ms preprocess, 498.5ms inference, 0.0ms postprocess per image at shape (1, 3, 480, 640)\n",
      "\n",
      "0: 480x640 1 cup, 1 apple, 481.5ms\n",
      "Speed: 1.7ms preprocess, 481.5ms inference, 0.0ms postprocess per image at shape (1, 3, 480, 640)\n"
     ]
    },
    {
     "ename": "TypeError",
     "evalue": "update_detected_labels_and_boxes_with_midas() missing 2 required positional arguments: 'image_left' and 'image_right'",
     "output_type": "error",
     "traceback": [
      "\u001b[1;31m---------------------------------------------------------------------------\u001b[0m",
      "\u001b[1;31mTypeError\u001b[0m                                 Traceback (most recent call last)",
      "Cell \u001b[1;32mIn[6], line 1\u001b[0m\n\u001b[1;32m----> 1\u001b[0m image_info1 \u001b[38;5;241m=\u001b[39m evaluation\u001b[38;5;241m.\u001b[39mget_distance_values_from_objects(cv2\u001b[38;5;241m.\u001b[39mimread(calib_case3_img_left_path), \n\u001b[0;32m      2\u001b[0m                               cv2\u001b[38;5;241m.\u001b[39mimread(calib_case3_img_right_path))\n",
      "File \u001b[1;32m~\\Smart-Glasses-for-Blind-People\\scripts\\server\\evaluation.py:118\u001b[0m, in \u001b[0;36mget_distance_values_from_objects\u001b[1;34m(image_left, image_right)\u001b[0m\n\u001b[0;32m    117\u001b[0m \u001b[38;5;28;01mdef\u001b[39;00m \u001b[38;5;21mget_distance_values_from_objects\u001b[39m(image_left, image_right):\n\u001b[1;32m--> 118\u001b[0m     detected_yolo_left, detected_yolo_right \u001b[38;5;241m=\u001b[39m update_detected_labels_and_boxes_with_midas(detected_labels_and_boxes_result(model_yolov8,image_left, \u001b[38;5;124m\"\u001b[39m\u001b[38;5;124myolo\u001b[39m\u001b[38;5;124m\"\u001b[39m), detected_labels_and_boxes_result(model_yolov8,image_right, \u001b[38;5;124m\"\u001b[39m\u001b[38;5;124myolo\u001b[39m\u001b[38;5;124m\"\u001b[39m))\n\u001b[0;32m    119\u001b[0m     result_from_yolov8 \u001b[38;5;241m=\u001b[39m stereo_vision_distance_result(image_left, \n\u001b[0;32m    120\u001b[0m                                            image_right, detected_yolo_left, detected_yolo_right)\n\u001b[0;32m    121\u001b[0m     result_from_wotr \u001b[38;5;241m=\u001b[39m stereo_vision_distance_result(image_left, \n\u001b[0;32m    122\u001b[0m                                            image_right, \n\u001b[0;32m    123\u001b[0m                               detected_labels_and_boxes_result(model_wotr,image_left, \u001b[38;5;124m\"\u001b[39m\u001b[38;5;124mwotr\u001b[39m\u001b[38;5;124m\"\u001b[39m), \n\u001b[0;32m    124\u001b[0m                               detected_labels_and_boxes_result(model_wotr,image_right, \u001b[38;5;124m\"\u001b[39m\u001b[38;5;124mwotr\u001b[39m\u001b[38;5;124m\"\u001b[39m))\n",
      "\u001b[1;31mTypeError\u001b[0m: update_detected_labels_and_boxes_with_midas() missing 2 required positional arguments: 'image_left' and 'image_right'"
     ]
    }
   ],
   "source": [
    "image_info1 = evaluation.get_distance_values_from_objects(cv2.imread(calib_case3_img_left_path), \n",
    "                              cv2.imread(calib_case3_img_right_path))"
   ]
  },
  {
   "cell_type": "code",
   "execution_count": null,
   "id": "cd49119a",
   "metadata": {},
   "outputs": [],
   "source": [
    "\n",
    "image_info1 = evaluation.get_distance_values_from_objects(cv2.imread(calib_case1_img_left_path), \n",
    "                              cv2.imread(calib_case1_img_right_path))"
   ]
  },
  {
   "cell_type": "code",
   "execution_count": null,
   "id": "9e252511",
   "metadata": {},
   "outputs": [],
   "source": [
    "evaluation.depth_map_result(calib_case1_img_right_path)"
   ]
  },
  {
   "cell_type": "code",
   "execution_count": null,
   "id": "56e2ff43",
   "metadata": {},
   "outputs": [],
   "source": [
    "evaluation.depth_map_result(calib_case2_img_left_path)"
   ]
  },
  {
   "cell_type": "code",
   "execution_count": null,
   "id": "d11997be",
   "metadata": {},
   "outputs": [],
   "source": [
    "evaluation.depth_map_result(calib_case2_img_right_path)"
   ]
  },
  {
   "cell_type": "code",
   "execution_count": null,
   "id": "ad0d7ff6",
   "metadata": {},
   "outputs": [],
   "source": [
    "evaluation.depth_map_result(calib_case3_img_left_path)"
   ]
  },
  {
   "cell_type": "code",
   "execution_count": null,
   "id": "5ba4ddaa",
   "metadata": {},
   "outputs": [],
   "source": [
    "evaluation.depth_map_result(calib_case3_img_right_path)"
   ]
  },
  {
   "cell_type": "code",
   "execution_count": null,
   "id": "c8bec6eb",
   "metadata": {},
   "outputs": [],
   "source": [
    "evaluation.depth_map_result(calib_case4_img_left_path)"
   ]
  },
  {
   "cell_type": "code",
   "execution_count": null,
   "id": "5fed067e",
   "metadata": {},
   "outputs": [],
   "source": [
    "evaluation.depth_map_result(calib_case3_img_right_path)"
   ]
  },
  {
   "cell_type": "code",
   "execution_count": null,
   "id": "a991197a",
   "metadata": {},
   "outputs": [],
   "source": []
  }
 ],
 "metadata": {
  "kernelspec": {
   "display_name": "Python 3 (ipykernel)",
   "language": "python",
   "name": "python3"
  },
  "language_info": {
   "codemirror_mode": {
    "name": "ipython",
    "version": 3
   },
   "file_extension": ".py",
   "mimetype": "text/x-python",
   "name": "python",
   "nbconvert_exporter": "python",
   "pygments_lexer": "ipython3",
   "version": "3.11.5"
  }
 },
 "nbformat": 4,
 "nbformat_minor": 5
}
