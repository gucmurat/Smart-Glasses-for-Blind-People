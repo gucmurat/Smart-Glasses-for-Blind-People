{
 "cells": [
  {
   "cell_type": "code",
   "execution_count": null,
   "id": "532c1183",
   "metadata": {},
   "outputs": [],
   "source": [
    "import os\n",
    "os.environ['KMP_DUPLICATE_LIB_OK']='True'\n",
    "from ultralytics import YOLO\n",
    "# Load a pretrained YOLOv8n model\n",
    "model = YOLO('/Users/muratguc/Projects/SeniorProject/ObjectClassification/v3/best.pt')\n",
    "# Run inference on the source\n",
    "#results = model.track(source=0, show=True, tracker=\"bytetrack.yaml\")\n",
    "image_path = \"/Users/muratguc/Projects/SeniorProject/ObjectClassification/test/koc-upstair.png\"\n",
    "results = model.predict(image_path, show=True)\n",
    "result = results[0]\n",
    "result.boxes.xyxy"
   ]
  },
  {
   "cell_type": "code",
   "execution_count": null,
   "id": "b9a45c0e",
   "metadata": {},
   "outputs": [],
   "source": [
    "result = results[0]"
   ]
  },
  {
   "cell_type": "code",
   "execution_count": null,
   "id": "90fe915d",
   "metadata": {},
   "outputs": [],
   "source": [
    "result.boxes"
   ]
  },
  {
   "cell_type": "code",
   "execution_count": null,
   "id": "d4d35609",
   "metadata": {},
   "outputs": [],
   "source": [
    "result.names"
   ]
  },
  {
   "cell_type": "code",
   "execution_count": null,
   "id": "9dfa217a",
   "metadata": {},
   "outputs": [],
   "source": [
    "import matplotlib.pyplot as plt\n",
    "\n",
    "coordinates = result.boxes.xyxy\n",
    "\n",
    "x_min, y_min, x_max, y_max = coordinates[0].tolist()\n",
    "\n",
    "label = \"tactile_paving\"\n",
    "\n",
    "image = cv2.imread(f\"{image_path}\")\n",
    "\n",
    "# Draw the bounding box on the image\n",
    "cv2.rectangle(image, (int(x_min), int(y_min)), (int(x_max), int(y_max)), (0, 255, 0), 2)\n",
    "\n",
    "# Display the label near the bounding box\n",
    "cv2.putText(image, label, (int(x_min), int(y_min) - 10), cv2.FONT_HERSHEY_SIMPLEX, 0.5, (0, 0, 255), 2)\n",
    "\n",
    "# Display the image using OpenCV\n",
    "cv2.imshow(\"Image with Label\", image)\n",
    "cv2.waitKey(0)\n",
    "cv2.destroyAllWindows()"
   ]
  },
  {
   "cell_type": "code",
   "execution_count": null,
   "id": "1b779abe",
   "metadata": {},
   "outputs": [],
   "source": []
  }
 ],
 "metadata": {
  "kernelspec": {
   "display_name": "Python 3 (ipykernel)",
   "language": "python",
   "name": "python3"
  },
  "language_info": {
   "codemirror_mode": {
    "name": "ipython",
    "version": 3
   },
   "file_extension": ".py",
   "mimetype": "text/x-python",
   "name": "python",
   "nbconvert_exporter": "python",
   "pygments_lexer": "ipython3",
   "version": "3.11.5"
  }
 },
 "nbformat": 4,
 "nbformat_minor": 5
}
